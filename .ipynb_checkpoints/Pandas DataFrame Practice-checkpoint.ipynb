{
 "cells": [
  {
   "cell_type": "code",
   "execution_count": null,
   "metadata": {
    "collapsed": true
   },
   "outputs": [],
   "source": [
    "from pandas import DataFrame, Series\n",
    "\n",
    "#################\n",
    "# Syntax Reminder:\n",
    "#\n",
    "# The following code would create a two-column pandas DataFrame\n",
    "# named df with columns labeled 'name' and 'age':\n",
    "#\n",
    "# people = ['Sarah', 'Mike', 'Chrisna']\n",
    "# ages  =  [28, 32, 25]\n",
    "# df = DataFrame({'name' : Series(people),\n",
    "#                 'age'  : Series(ages)})\n",
    "\n",
    "def create_dataframe():\n",
    "    '''\n",
    "    Create a pandas dataframe called 'olympic_medal_counts_df' containing\n",
    "    the data from the table of 2014 Sochi winter olympics medal counts.  \n",
    "\n",
    "    The columns for this dataframe should be called \n",
    "    'country_name', 'gold', 'silver', and 'bronze'.  \n",
    "\n",
    "    There is no need to  specify row indexes for this dataframe \n",
    "    (in this case, the rows will automatically be assigned numbered indexes).\n",
    "    \n",
    "    You do not need to call the function in your code when running it in the\n",
    "    browser - the grader will do that automatically when you submit or test it.\n",
    "    '''\n",
    "\n",
    "    countries = ['Russian Fed.', 'Norway', 'Canada', 'United States',\n",
    "                 'Netherlands', 'Germany', 'Switzerland', 'Belarus',\n",
    "                 'Austria', 'France', 'Poland', 'China', 'Korea', \n",
    "                 'Sweden', 'Czech Republic', 'Slovenia', 'Japan',\n",
    "                 'Finland', 'Great Britain', 'Ukraine', 'Slovakia',\n",
    "                 'Italy', 'Latvia', 'Australia', 'Croatia', 'Kazakhstan']\n",
    "\n",
    "    gold = [13, 11, 10, 9, 8, 8, 6, 5, 4, 4, 4, 3, 3, 2, 2, 2, 1, 1, 1, 1, 1, 0, 0, 0, 0, 0]\n",
    "    silver = [11, 5, 10, 7, 7, 6, 3, 0, 8, 4, 1, 4, 3, 7, 4, 2, 4, 3, 1, 0, 0, 2, 2, 2, 1, 0]\n",
    "    bronze = [9, 10, 5, 12, 9, 5, 2, 1, 5, 7, 1, 2, 2, 6, 2, 4, 3, 1, 2, 1, 0, 6, 2, 1, 0, 1]\n",
    "\n",
    "    # your code here\n",
    "\n",
    "    return olympic_medal_counts_df\n"
   ]
  }
 ],
 "metadata": {
  "kernelspec": {
   "display_name": "Python 2",
   "language": "python",
   "name": "python2"
  }
 },
 "nbformat": 4,
 "nbformat_minor": 2
}
