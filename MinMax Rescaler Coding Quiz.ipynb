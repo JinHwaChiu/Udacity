{
 "cells": [
  {
   "cell_type": "code",
   "execution_count": 10,
   "metadata": {},
   "outputs": [
    {
     "name": "stdout",
     "output_type": "stream",
     "text": [
      "[0.0, 0.4166666666666667, 1.0]\n"
     ]
    }
   ],
   "source": [
    "\"\"\" L5 Feature Scaleing quiz materials for feature scaling clustering \"\"\"\n",
    "\n",
    "### FYI, the most straightforward implementation might \n",
    "### throw a divide-by-zero error, if the min and max\n",
    "### values are the same\n",
    "### but think about this for a second--that means that every\n",
    "### data point has the same value for that feature!  \n",
    "### why would you rescale it?  Or even use it at all?\n",
    "\n",
    "\n",
    "def featureScaling(arr):\n",
    "    Max = max(arr)\n",
    "    Min = min(arr)\n",
    "    ans = []\n",
    "    for i in range(len(arr)):\n",
    "        ans.append((1.0 * (arr[i] - Min) / (Max - Min)))\n",
    "    \n",
    "    \n",
    "    return ans\n",
    "\n",
    "# tests of your feature scaler--line below is input data\n",
    "data = [115, 140, 175]\n",
    "print featureScaling(data)\n",
    "\n"
   ]
  },
  {
   "cell_type": "markdown",
   "metadata": {},
   "source": [
    "Something to think about: What if x_max and x_min are the same? For example, suppose the list of input features is [10, 10, 10]--the denominator will be zero. Our suggestion would be in general to assign each new feature to 0.5 (halfway between 0.0 and 1.0), but it's really your call. The main point is that this exact formula can be broken.\n",
    "\n",
    "The featureScaling procedure should return a list of rescaled values for all three values from the data list."
   ]
  },
  {
   "cell_type": "code",
   "execution_count": 16,
   "metadata": {},
   "outputs": [
    {
     "name": "stdout",
     "output_type": "stream",
     "text": [
      "[[ 0.        ]\n",
      " [ 0.41666667]\n",
      " [ 1.        ]]\n"
     ]
    }
   ],
   "source": [
    "from sklearn.preprocessing import MinMaxScaler\n",
    "weights = np.array([[115.],[140.],[175.]])\n",
    "scaler  = MinMaxScaler()\n",
    "rescale_w = scaler.fit_transform(weights)\n",
    "print rescale_w"
   ]
  },
  {
   "cell_type": "code",
   "execution_count": null,
   "metadata": {
    "collapsed": true
   },
   "outputs": [],
   "source": []
  }
 ],
 "metadata": {
  "kernelspec": {
   "display_name": "Python 2",
   "language": "python",
   "name": "python2"
  }
 },
 "nbformat": 4,
 "nbformat_minor": 2
}
