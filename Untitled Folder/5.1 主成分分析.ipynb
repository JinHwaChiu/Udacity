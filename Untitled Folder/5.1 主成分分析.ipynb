{
 "cells": [
  {
   "cell_type": "code",
   "execution_count": 3,
   "metadata": {},
   "outputs": [],
   "source": [
    "#http://archive.ics.uci.edu/ml/machine-learning-databases/wine/wine.data\n",
    "import pandas as pd\n",
    "import numpy as np\n",
    "df_wine = pd.read_csv('http://archive.ics.uci.edu/ml/machine-learning-databases/wine/wine.data')\n",
    "#print df_wine\n",
    "#print df_wine.shape\n",
    "df_wine.columns = [\n",
    "'Class Label',\n",
    "'Alcohol',\n",
    "'Malic acid',\n",
    "'Ash',\n",
    "'Alcalinity of ash',  \n",
    "'Magnesium',\n",
    "'Total phenols',\n",
    "'Flavanoids',\n",
    "'Nonflavanoid phenols',\n",
    "'Proanthocyanins',\n",
    "'Color intensity',\n",
    "'Hue',\n",
    "'OD280/OD315 of diluted wines',\n",
    "'Proline',]\n",
    "#df_wine"
   ]
  },
  {
   "cell_type": "code",
   "execution_count": 21,
   "metadata": {},
   "outputs": [
    {
     "name": "stdout",
     "output_type": "stream",
     "text": [
      "[[-0.16184363 -0.62896274  0.5741578  ...,  0.59319035  1.46755686\n",
      "   0.85830972]\n",
      " [-1.7564425  -0.84378674  1.20595967 ...,  0.03602907  0.93895763\n",
      "  -0.2178748 ]\n",
      " [ 0.37826244  1.67395049 -0.33844491 ..., -1.54973767 -1.48974154\n",
      "   0.28006132]\n",
      " ..., \n",
      " [-0.26472098  0.9435489  -1.32124782 ..., -1.07829351 -0.68969946\n",
      "  -1.20732207]\n",
      " [ 1.44561491 -0.26805843  0.15295655 ...,  0.50747323  0.21034788\n",
      "   1.00287182]\n",
      " [ 0.94408784  2.85118598  0.32845707 ..., -1.33544487 -1.23258516\n",
      "  -0.02512534]]\n",
      "Eigenvalues: \n",
      "[ 4.80831621  2.60374779  1.37087288  0.89730848  0.89417853  0.61503055\n",
      "  0.52428622  0.09986474  0.36400572  0.1628064   0.30351535  0.23651936\n",
      "  0.22610515]\n"
     ]
    },
    {
     "name": "stderr",
     "output_type": "stream",
     "text": [
      "C:\\ProgramData\\Anaconda2\\lib\\site-packages\\sklearn\\preprocessing\\data.py:586: DeprecationWarning: Passing 1d arrays as data is deprecated in 0.17 and will raise ValueError in 0.19. Reshape your data either using X.reshape(-1, 1) if your data has a single feature or X.reshape(1, -1) if it contains a single sample.\n",
      "  warnings.warn(DEPRECATION_MSG_1D, DeprecationWarning)\n",
      "C:\\ProgramData\\Anaconda2\\lib\\site-packages\\sklearn\\preprocessing\\data.py:649: DeprecationWarning: Passing 1d arrays as data is deprecated in 0.17 and will raise ValueError in 0.19. Reshape your data either using X.reshape(-1, 1) if your data has a single feature or X.reshape(1, -1) if it contains a single sample.\n",
      "  warnings.warn(DEPRECATION_MSG_1D, DeprecationWarning)\n"
     ]
    }
   ],
   "source": [
    "from sklearn.model_selection import train_test_split\n",
    "from sklearn.preprocessing import StandardScaler\n",
    "\n",
    "\n",
    "X,y = df_wine.iloc[:,1:], df_wine.iloc[:,0]\n",
    "X_train,y_train,X_test,y_test = train_test_split(X,y,test_size=0.3,random_state=0)\n",
    "sc = StandardScaler()\n",
    "#對原始數據標準化\n",
    "x_train_std = sc.fit_transform(X_train)\n",
    "x_test_std = sc.fit_transform(X_test)\n",
    "\n",
    "#Co-variance\n",
    "cov_mat = np.cov(x_train_std.T)\n",
    "\n",
    "#Eigen-value,vector\n",
    "eigen_val, eigen_vecs = np.linalg.eig(cov_mat) \n",
    "\n",
    "cov_mat = np.cov(x_train_std)\n",
    "print x_train_std\n",
    "print 'Eigenvalues: \\n', eigen_val\n",
    "\n"
   ]
  },
  {
   "cell_type": "code",
   "execution_count": 30,
   "metadata": {},
   "outputs": [],
   "source": [
    "tot = sum(eigen_val)\n",
    "var_exp = [(i/tot) for i in sorted(eigen_val,reverse=True)]\n",
    "cum_var_exp = np.cumsum(var_exp)"
   ]
  },
  {
   "cell_type": "code",
   "execution_count": 31,
   "metadata": {},
   "outputs": [
    {
     "data": {
      "image/png": "[encoded data removed]",
      "text/plain": [
       "<matplotlib.figure.Figure at 0xce7e2e8>"
      ]
     },
     "metadata": {},
     "output_type": "display_data"
    }
   ],
   "source": [
    "import matplotlib.pyplot as plt\n",
    "plt.bar(range(1,14), var_exp, alpha=0.5, align='center',label='individual explained variance')\n",
    "plt.step(range(1,14), cum_var_exp, where='mid', label='cumulative variance ratio')\n",
    "plt.ylabel('cumulative variance ratio')\n",
    "plt.xlabel('individual explained variance')\n",
    "plt.show()"
   ]
  },
  {
   "cell_type": "code",
   "execution_count": null,
   "metadata": {
    "collapsed": true
   },
   "outputs": [],
   "source": []
  }
 ],
 "metadata": {
  "kernelspec": {
   "display_name": "Python 2",
   "language": "python",
   "name": "python2"
  },
  "language_info": {
   "codemirror_mode": {
    "name": "ipython",
    "version": 2
   },
   "file_extension": ".py",
   "mimetype": "text/x-python",
   "name": "python",
   "nbconvert_exporter": "python",
   "pygments_lexer": "ipython2",
   "version": "2.7.13"
  }
 },
 "nbformat": 4,
 "nbformat_minor": 2
}
