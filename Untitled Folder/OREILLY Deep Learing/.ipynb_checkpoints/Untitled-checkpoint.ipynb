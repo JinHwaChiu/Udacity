{
 "cells": [
  {
   "cell_type": "code",
   "execution_count": 8,
   "metadata": {
    "collapsed": true
   },
   "outputs": [],
   "source": [
    "import numpy as np\n",
    "def init_network():\n",
    "    network ={}\n",
    "    network['W1']=np.array([[0.1,0.3,0.5],[0.2,0.4,0.6]])\n",
    "    network['b1']=np.array([0.1,0.2,0.3])\n",
    "    network['W2']=np.array([[0.1,0.4],[0.2,0.5],[0.3,0.6]])\n",
    "    network['b2']=np.array([0.1,0.2])\n",
    "    network['W3']=np.array([[0.1,0.3],[0.2,0.4]])\n",
    "    network['b3']=np.array([0.1,0.2])\n",
    "    return network\n",
    "\n",
    "def forward(network,x):\n",
    "    W1,W2,W3 = network['W1'], network['W2'], network['W3']\n",
    "    b1,b2,b3 = network['b1'], network['b2'], network['b3']\n",
    "    a1 = np.dot(W1,x)+b1\n",
    "    z1 = sigmoid(a1)\n",
    "    a2 = np.dot(W2,x)+b2\n",
    "    z2 = sigmoid(a2)\n",
    "    a3 = np.dot(W3,x)+b3\n",
    "    z3 = sigmoid(a3)"
   ]
  },
  {
   "cell_type": "code",
   "execution_count": 10,
   "metadata": {},
   "outputs": [
    {
     "data": {
      "text/plain": [
       "{'W1': array([[ 0.1,  0.3,  0.5],\n",
       "        [ 0.2,  0.4,  0.6]]), 'W2': array([[ 0.1,  0.4],\n",
       "        [ 0.2,  0.5],\n",
       "        [ 0.3,  0.6]]), 'W3': array([[ 0.1,  0.3],\n",
       "        [ 0.2,  0.4]]), 'b1': array([ 0.1,  0.2,  0.3]), 'b2': array([ 0.1,  0.2]), 'b3': array([ 0.1,  0.2])}"
      ]
     },
     "execution_count": 10,
     "metadata": {},
     "output_type": "execute_result"
    }
   ],
   "source": [
    "init_network()"
   ]
  },
  {
   "cell_type": "code",
   "execution_count": null,
   "metadata": {
    "collapsed": true
   },
   "outputs": [],
   "source": []
  }
 ],
 "metadata": {
  "kernelspec": {
   "display_name": "Python 3",
   "language": "python",
   "name": "python3"
  }
 },
 "nbformat": 4,
 "nbformat_minor": 2
}
