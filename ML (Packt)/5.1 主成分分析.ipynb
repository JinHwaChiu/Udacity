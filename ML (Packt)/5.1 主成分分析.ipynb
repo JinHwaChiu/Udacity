{
 "cells": [
  {
   "cell_type": "code",
   "execution_count": 55,
   "metadata": {},
   "outputs": [],
   "source": [
    "#http://archive.ics.uci.edu/ml/machine-learning-databases/wine/wine.data\n",
    "import pandas as pd\n",
    "import numpy as np\n",
    "df_wine = pd.read_csv('http://archive.ics.uci.edu/ml/machine-learning-databases/wine/wine.data')\n",
    "#print df_wine\n",
    "#print df_wine.shape\n",
    "df_wine.columns = [\n",
    "'Class Label',\n",
    "'Alcohol',\n",
    "'Malic acid',\n",
    "'Ash',\n",
    "'Alcalinity of ash',  \n",
    "'Magnesium',\n",
    "'Total phenols',\n",
    "'Flavanoids',\n",
    "'Nonflavanoid phenols',\n",
    "'Proanthocyanins',\n",
    "'Color intensity',\n",
    "'Hue',\n",
    "'OD280/OD315 of diluted wines',\n",
    "'Proline',]\n",
    "#df_wine"
   ]
  },
  {
   "cell_type": "code",
   "execution_count": 56,
   "metadata": {},
   "outputs": [
    {
     "name": "stdout",
     "output_type": "stream",
     "text": [
      "Eigenvalues: \n",
      "[ 4.80831621  2.60374779  1.37087288  0.89730848  0.89417853  0.61503055\n",
      "  0.52428622  0.09986474  0.36400572  0.1628064   0.30351535  0.23651936\n",
      "  0.22610515]\n",
      "Eigenvectors: \n",
      "[[ 0.11764947 -0.48449198 -0.22676228  0.22167968 -0.0657581   0.29682743\n",
      "   0.07792283 -0.02721779 -0.41894013  0.27473069 -0.34066068 -0.3700865\n",
      "   0.21821592]\n",
      " [-0.27125589 -0.22537291  0.0915252  -0.05050596  0.4230611   0.51436621\n",
      "  -0.55097414 -0.00456689 -0.07912341 -0.1424389   0.01798525  0.1616495\n",
      "  -0.25406603]\n",
      " [-0.00287842 -0.37849214  0.56611151  0.18058454 -0.21551982  0.06167068\n",
      "   0.10384847  0.15079088  0.23426669  0.00241752  0.36953189 -0.40176932\n",
      "  -0.25886059]\n",
      " [-0.2187704  -0.00424088  0.66946119 -0.01259168  0.07601025 -0.06845273\n",
      "   0.23091643 -0.11012603 -0.44673576  0.09095765 -0.12428073  0.35754592\n",
      "   0.27702039]\n",
      " [ 0.11381354 -0.29832137  0.14770786 -0.75074129 -0.31956416 -0.1361768\n",
      "  -0.287783   -0.04231645  0.10836262 -0.03558904 -0.28727815 -0.05168022\n",
      "   0.09558769]\n",
      " [ 0.3883771  -0.08395627  0.15502807  0.14670929  0.22086601 -0.03775874\n",
      "   0.03574764  0.43158715  0.30578757  0.33842374 -0.44734689  0.3189918\n",
      "  -0.22111694]\n",
      " [ 0.41798859 -0.03573104  0.14704292  0.11253134  0.19295588 -0.00429476\n",
      "   0.04368408 -0.81713651  0.15231416 -0.09430635 -0.13546207 -0.03350599\n",
      "  -0.17688186]\n",
      " [-0.30781073 -0.05530974  0.07138073  0.4977631  -0.14508103 -0.40460866\n",
      "  -0.51673044 -0.0989297   0.22691772 -0.01679607 -0.2618417  -0.0492581\n",
      "   0.25497996]\n",
      " [ 0.31891453 -0.03466028  0.04901835 -0.09028858  0.49779638 -0.4928227\n",
      "  -0.28997083  0.13472565 -0.3315524   0.12135383  0.30539951 -0.26577689\n",
      "   0.07118897]\n",
      " [-0.09956432 -0.51335364 -0.18399456  0.05071214  0.17972582 -0.33160201\n",
      "   0.31436701  0.10711116 -0.03913362 -0.61886473 -0.11271152  0.16530285\n",
      "  -0.11408191]\n",
      " [ 0.31677259  0.21549584  0.08151526  0.19286413 -0.44645711 -0.0218382\n",
      "  -0.25309328  0.12287339 -0.49623084 -0.31525918 -0.11540162  0.07776842\n",
      "  -0.4067205 ]\n",
      " [ 0.38268756  0.13494201  0.17418972  0.08471397  0.09054176  0.31818436\n",
      "  -0.05517899  0.21210451  0.16122136 -0.49594834 -0.01021538 -0.08615189\n",
      "   0.60072178]\n",
      " [ 0.27026597 -0.37608379 -0.16040494  0.1219576  -0.26011715  0.02414721\n",
      "  -0.15238898 -0.09542217  0.01180594  0.16705884  0.49261918  0.57292205\n",
      "   0.21302749]]\n"
     ]
    },
    {
     "name": "stderr",
     "output_type": "stream",
     "text": [
      "C:\\ProgramData\\Anaconda2\\lib\\site-packages\\sklearn\\preprocessing\\data.py:586: DeprecationWarning: Passing 1d arrays as data is deprecated in 0.17 and will raise ValueError in 0.19. Reshape your data either using X.reshape(-1, 1) if your data has a single feature or X.reshape(1, -1) if it contains a single sample.\n",
      "  warnings.warn(DEPRECATION_MSG_1D, DeprecationWarning)\n",
      "C:\\ProgramData\\Anaconda2\\lib\\site-packages\\sklearn\\preprocessing\\data.py:649: DeprecationWarning: Passing 1d arrays as data is deprecated in 0.17 and will raise ValueError in 0.19. Reshape your data either using X.reshape(-1, 1) if your data has a single feature or X.reshape(1, -1) if it contains a single sample.\n",
      "  warnings.warn(DEPRECATION_MSG_1D, DeprecationWarning)\n"
     ]
    }
   ],
   "source": [
    "from sklearn.model_selection import train_test_split\n",
    "from sklearn.preprocessing import StandardScaler\n",
    "\n",
    "\n",
    "X,y = df_wine.iloc[:,1:], df_wine.iloc[:,0]\n",
    "\n",
    "X_train,y_train,X_test,y_test = train_test_split(X,y,test_size=0.3,random_state=0)\n",
    "sc = StandardScaler()\n",
    "#對原始數據標準化\n",
    "x_train_std = sc.fit_transform(X_train)\n",
    "x_test_std = sc.fit_transform(X_test)\n",
    "\n",
    "#Co-variance\n",
    "cov_mat = np.cov(x_train_std.T)\n",
    "\n",
    "#Eigen-value,vector\n",
    "eigen_val, eigen_vecs = np.linalg.eig(cov_mat) \n",
    "\n",
    "cov_mat = np.cov(x_train_std)\n",
    "#print x_train_std\n",
    "print 'Eigenvalues: \\n', eigen_val\n",
    "print 'Eigenvectors: \\n', eigen_vecs\n",
    "\n"
   ]
  },
  {
   "cell_type": "code",
   "execution_count": 57,
   "metadata": {},
   "outputs": [],
   "source": [
    "tot = sum(eigen_val)\n",
    "var_exp = [(i/tot) for i in sorted(eigen_val,reverse=True)]\n",
    "cum_var_exp = np.cumsum(var_exp)"
   ]
  },
  {
   "cell_type": "code",
   "execution_count": 58,
   "metadata": {},
   "outputs": [
    {
     "data": {
      "image/png": "[encoded data removed]",
      "text/plain": [
       "<matplotlib.figure.Figure at 0x8e58470>"
      ]
     },
     "metadata": {},
     "output_type": "display_data"
    }
   ],
   "source": [
    "import matplotlib.pyplot as plt\n",
    "plt.bar(range(1,14), var_exp, alpha=0.5, align='center',label='individual explained variance')\n",
    "plt.step(range(1,14), cum_var_exp, where='mid', label='cumulative variance ratio')\n",
    "plt.ylabel('cumulative variance ratio')\n",
    "plt.xlabel('individual explained variance')\n",
    "plt.show()"
   ]
  },
  {
   "cell_type": "code",
   "execution_count": 75,
   "metadata": {},
   "outputs": [
    {
     "name": "stdout",
     "output_type": "stream",
     "text": [
      "[[ 0.11764947 -0.48449198]\n",
      " [-0.27125589 -0.22537291]\n",
      " [-0.00287842 -0.37849214]\n",
      " [-0.2187704  -0.00424088]\n",
      " [ 0.11381354 -0.29832137]\n",
      " [ 0.3883771  -0.08395627]\n",
      " [ 0.41798859 -0.03573104]\n",
      " [-0.30781073 -0.05530974]\n",
      " [ 0.31891453 -0.03466028]\n",
      " [-0.09956432 -0.51335364]\n",
      " [ 0.31677259  0.21549584]\n",
      " [ 0.38268756  0.13494201]\n",
      " [ 0.27026597 -0.37608379]]\n"
     ]
    }
   ],
   "source": [
    "#特徵轉換\n",
    "eigen_pairs = [(np.abs(eigen_val[i]), eigen_vecs[:,i]) for i in range(len(eigen_val))]\n",
    "#print eigen_pairs\n",
    "eigen_pairs.sort(reverse=True)\n",
    "#eigen_paris = sorted(eigen_pairs,reverse=True)\n",
    "\n",
    "#映射矩陣w......\n",
    "w = np.hstack((eigen_pairs[0][1][:,np.newaxis],eigen_pairs[1][1][:,np.newaxis]))\n",
    "\n",
    "print w"
   ]
  },
  {
   "cell_type": "code",
   "execution_count": null,
   "metadata": {
    "collapsed": true
   },
   "outputs": [],
   "source": []
  },
  {
   "cell_type": "code",
   "execution_count": 60,
   "metadata": {},
   "outputs": [
    {
     "ename": "ValueError",
     "evalue": "The truth value of an array with more than one element is ambiguous. Use a.any() or a.all()",
     "output_type": "error",
     "traceback": [
      "\u001b[1;31m---------------------------------------------------------------------------\u001b[0m",
      "\u001b[1;31mValueError\u001b[0m                                Traceback (most recent call last)",
      "\u001b[1;32m<ipython-input-60-301272f510e2>\u001b[0m in \u001b[0;36m<module>\u001b[1;34m()\u001b[0m\n\u001b[0;32m      2\u001b[0m \u001b[0mvaleur\u001b[0m \u001b[1;33m=\u001b[0m \u001b[1;36m2\u001b[0m\u001b[1;33m*\u001b[0m\u001b[0mx\u001b[0m\u001b[1;33m\u001b[0m\u001b[0m\n\u001b[0;32m      3\u001b[0m \u001b[1;33m\u001b[0m\u001b[0m\n\u001b[1;32m----> 4\u001b[1;33m \u001b[1;32mif\u001b[0m \u001b[0mvaleur\u001b[0m \u001b[1;33m<=\u001b[0m \u001b[1;36m0.6\u001b[0m\u001b[1;33m:\u001b[0m\u001b[1;33m\u001b[0m\u001b[0m\n\u001b[0m\u001b[0;32m      5\u001b[0m     \u001b[1;32mprint\u001b[0m \u001b[1;33m(\u001b[0m\u001b[1;34m\"this works\"\u001b[0m\u001b[1;33m)\u001b[0m\u001b[1;33m\u001b[0m\u001b[0m\n\u001b[0;32m      6\u001b[0m \u001b[1;32melse\u001b[0m\u001b[1;33m:\u001b[0m\u001b[1;33m\u001b[0m\u001b[0m\n",
      "\u001b[1;31mValueError\u001b[0m: The truth value of an array with more than one element is ambiguous. Use a.any() or a.all()"
     ]
    }
   ],
   "source": [
    "x = np.arange(0,2,0.5)\n",
    "valeur = 2*x\n",
    "\n",
    "if valeur <= 0.6:\n",
    "    print (\"this works\")\n",
    "else:   \n",
    "    print (\"valeur is too high\")"
   ]
  },
  {
   "cell_type": "code",
   "execution_count": null,
   "metadata": {},
   "outputs": [],
   "source": []
  }
 ],
 "metadata": {
  "kernelspec": {
   "display_name": "Python 2",
   "language": "python",
   "name": "python2"
  },
  "language_info": {
   "codemirror_mode": {
    "name": "ipython",
    "version": 2
   },
   "file_extension": ".py",
   "mimetype": "text/x-python",
   "name": "python",
   "nbconvert_exporter": "python",
   "pygments_lexer": "ipython2",
   "version": "2.7.13"
  }
 },
 "nbformat": 4,
 "nbformat_minor": 2
}
