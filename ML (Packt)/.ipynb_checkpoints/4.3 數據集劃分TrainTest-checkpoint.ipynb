{
 "cells": [
  {
   "cell_type": "code",
   "execution_count": 10,
   "metadata": {
    "collapsed": true
   },
   "outputs": [],
   "source": [
    "#http://archive.ics.uci.edu/ml/machine-learning-databases/wine/wine.data\n",
    "import pandas as pd\n",
    "import numpy as np\n",
    "df_wine = pd.read_csv('http://archive.ics.uci.edu/ml/machine-learning-databases/wine/wine.data')\n",
    "#print df_wine\n",
    "#print df_wine.shape\n",
    "df_wine.columns = [\n",
    "'Class Label',\n",
    "'Alcohol',\n",
    "'Malic acid',\n",
    "'Ash',\n",
    "'Alcalinity of ash',  \n",
    "'Magnesium',\n",
    "'Total phenols',\n",
    "'Flavanoids',\n",
    "'Nonflavanoid phenols',\n",
    "'Proanthocyanins',\n",
    "'Color intensity',\n",
    "'Hue',\n",
    "'OD280/OD315 of diluted wines',\n",
    "'Proline',]\n",
    "#df_wine"
   ]
  },
  {
   "cell_type": "code",
   "execution_count": 11,
   "metadata": {},
   "outputs": [
    {
     "name": "stdout",
     "output_type": "stream",
     "text": [
      "Class Label [1 2 3]\n"
     ]
    }
   ],
   "source": [
    "print 'Class Label',np.unique(df_wine['Class Label'])"
   ]
  },
  {
   "cell_type": "code",
   "execution_count": 12,
   "metadata": {},
   "outputs": [
    {
     "data": {
      "text/html": [
       "<div>\n",
       "<style>\n",
       "    .dataframe thead tr:only-child th {\n",
       "        text-align: right;\n",
       "    }\n",
       "\n",
       "    .dataframe thead th {\n",
       "        text-align: left;\n",
       "    }\n",
       "\n",
       "    .dataframe tbody tr th {\n",
       "        vertical-align: top;\n",
       "    }\n",
       "</style>\n",
       "<table border=\"1\" class=\"dataframe\">\n",
       "  <thead>\n",
       "    <tr style=\"text-align: right;\">\n",
       "      <th></th>\n",
       "      <th>Class Label</th>\n",
       "      <th>Alcohol</th>\n",
       "      <th>Malic acid</th>\n",
       "      <th>Ash</th>\n",
       "      <th>Alcalinity of ash</th>\n",
       "      <th>Magnesium</th>\n",
       "      <th>Total phenols</th>\n",
       "      <th>Flavanoids</th>\n",
       "      <th>Nonflavanoid phenols</th>\n",
       "      <th>Proanthocyanins</th>\n",
       "      <th>Color intensity</th>\n",
       "      <th>Hue</th>\n",
       "      <th>OD280/OD315 of diluted wines</th>\n",
       "      <th>Proline</th>\n",
       "    </tr>\n",
       "  </thead>\n",
       "  <tbody>\n",
       "    <tr>\n",
       "      <th>0</th>\n",
       "      <td>1</td>\n",
       "      <td>13.20</td>\n",
       "      <td>1.78</td>\n",
       "      <td>2.14</td>\n",
       "      <td>11.2</td>\n",
       "      <td>100</td>\n",
       "      <td>2.65</td>\n",
       "      <td>2.76</td>\n",
       "      <td>0.26</td>\n",
       "      <td>1.28</td>\n",
       "      <td>4.38</td>\n",
       "      <td>1.05</td>\n",
       "      <td>3.40</td>\n",
       "      <td>1050</td>\n",
       "    </tr>\n",
       "    <tr>\n",
       "      <th>1</th>\n",
       "      <td>1</td>\n",
       "      <td>13.16</td>\n",
       "      <td>2.36</td>\n",
       "      <td>2.67</td>\n",
       "      <td>18.6</td>\n",
       "      <td>101</td>\n",
       "      <td>2.80</td>\n",
       "      <td>3.24</td>\n",
       "      <td>0.30</td>\n",
       "      <td>2.81</td>\n",
       "      <td>5.68</td>\n",
       "      <td>1.03</td>\n",
       "      <td>3.17</td>\n",
       "      <td>1185</td>\n",
       "    </tr>\n",
       "    <tr>\n",
       "      <th>2</th>\n",
       "      <td>1</td>\n",
       "      <td>14.37</td>\n",
       "      <td>1.95</td>\n",
       "      <td>2.50</td>\n",
       "      <td>16.8</td>\n",
       "      <td>113</td>\n",
       "      <td>3.85</td>\n",
       "      <td>3.49</td>\n",
       "      <td>0.24</td>\n",
       "      <td>2.18</td>\n",
       "      <td>7.80</td>\n",
       "      <td>0.86</td>\n",
       "      <td>3.45</td>\n",
       "      <td>1480</td>\n",
       "    </tr>\n",
       "    <tr>\n",
       "      <th>3</th>\n",
       "      <td>1</td>\n",
       "      <td>13.24</td>\n",
       "      <td>2.59</td>\n",
       "      <td>2.87</td>\n",
       "      <td>21.0</td>\n",
       "      <td>118</td>\n",
       "      <td>2.80</td>\n",
       "      <td>2.69</td>\n",
       "      <td>0.39</td>\n",
       "      <td>1.82</td>\n",
       "      <td>4.32</td>\n",
       "      <td>1.04</td>\n",
       "      <td>2.93</td>\n",
       "      <td>735</td>\n",
       "    </tr>\n",
       "    <tr>\n",
       "      <th>4</th>\n",
       "      <td>1</td>\n",
       "      <td>14.20</td>\n",
       "      <td>1.76</td>\n",
       "      <td>2.45</td>\n",
       "      <td>15.2</td>\n",
       "      <td>112</td>\n",
       "      <td>3.27</td>\n",
       "      <td>3.39</td>\n",
       "      <td>0.34</td>\n",
       "      <td>1.97</td>\n",
       "      <td>6.75</td>\n",
       "      <td>1.05</td>\n",
       "      <td>2.85</td>\n",
       "      <td>1450</td>\n",
       "    </tr>\n",
       "    <tr>\n",
       "      <th>5</th>\n",
       "      <td>1</td>\n",
       "      <td>14.39</td>\n",
       "      <td>1.87</td>\n",
       "      <td>2.45</td>\n",
       "      <td>14.6</td>\n",
       "      <td>96</td>\n",
       "      <td>2.50</td>\n",
       "      <td>2.52</td>\n",
       "      <td>0.30</td>\n",
       "      <td>1.98</td>\n",
       "      <td>5.25</td>\n",
       "      <td>1.02</td>\n",
       "      <td>3.58</td>\n",
       "      <td>1290</td>\n",
       "    </tr>\n",
       "    <tr>\n",
       "      <th>6</th>\n",
       "      <td>1</td>\n",
       "      <td>14.06</td>\n",
       "      <td>2.15</td>\n",
       "      <td>2.61</td>\n",
       "      <td>17.6</td>\n",
       "      <td>121</td>\n",
       "      <td>2.60</td>\n",
       "      <td>2.51</td>\n",
       "      <td>0.31</td>\n",
       "      <td>1.25</td>\n",
       "      <td>5.05</td>\n",
       "      <td>1.06</td>\n",
       "      <td>3.58</td>\n",
       "      <td>1295</td>\n",
       "    </tr>\n",
       "    <tr>\n",
       "      <th>7</th>\n",
       "      <td>1</td>\n",
       "      <td>14.83</td>\n",
       "      <td>1.64</td>\n",
       "      <td>2.17</td>\n",
       "      <td>14.0</td>\n",
       "      <td>97</td>\n",
       "      <td>2.80</td>\n",
       "      <td>2.98</td>\n",
       "      <td>0.29</td>\n",
       "      <td>1.98</td>\n",
       "      <td>5.20</td>\n",
       "      <td>1.08</td>\n",
       "      <td>2.85</td>\n",
       "      <td>1045</td>\n",
       "    </tr>\n",
       "    <tr>\n",
       "      <th>8</th>\n",
       "      <td>1</td>\n",
       "      <td>13.86</td>\n",
       "      <td>1.35</td>\n",
       "      <td>2.27</td>\n",
       "      <td>16.0</td>\n",
       "      <td>98</td>\n",
       "      <td>2.98</td>\n",
       "      <td>3.15</td>\n",
       "      <td>0.22</td>\n",
       "      <td>1.85</td>\n",
       "      <td>7.22</td>\n",
       "      <td>1.01</td>\n",
       "      <td>3.55</td>\n",
       "      <td>1045</td>\n",
       "    </tr>\n",
       "  </tbody>\n",
       "</table>\n",
       "</div>"
      ],
      "text/plain": [
       "   Class Label  Alcohol  Malic acid   Ash  Alcalinity of ash  Magnesium  \\\n",
       "0            1    13.20        1.78  2.14               11.2        100   \n",
       "1            1    13.16        2.36  2.67               18.6        101   \n",
       "2            1    14.37        1.95  2.50               16.8        113   \n",
       "3            1    13.24        2.59  2.87               21.0        118   \n",
       "4            1    14.20        1.76  2.45               15.2        112   \n",
       "5            1    14.39        1.87  2.45               14.6         96   \n",
       "6            1    14.06        2.15  2.61               17.6        121   \n",
       "7            1    14.83        1.64  2.17               14.0         97   \n",
       "8            1    13.86        1.35  2.27               16.0         98   \n",
       "\n",
       "   Total phenols  Flavanoids  Nonflavanoid phenols  Proanthocyanins  \\\n",
       "0           2.65        2.76                  0.26             1.28   \n",
       "1           2.80        3.24                  0.30             2.81   \n",
       "2           3.85        3.49                  0.24             2.18   \n",
       "3           2.80        2.69                  0.39             1.82   \n",
       "4           3.27        3.39                  0.34             1.97   \n",
       "5           2.50        2.52                  0.30             1.98   \n",
       "6           2.60        2.51                  0.31             1.25   \n",
       "7           2.80        2.98                  0.29             1.98   \n",
       "8           2.98        3.15                  0.22             1.85   \n",
       "\n",
       "   Color intensity   Hue  OD280/OD315 of diluted wines  Proline  \n",
       "0             4.38  1.05                          3.40     1050  \n",
       "1             5.68  1.03                          3.17     1185  \n",
       "2             7.80  0.86                          3.45     1480  \n",
       "3             4.32  1.04                          2.93      735  \n",
       "4             6.75  1.05                          2.85     1450  \n",
       "5             5.25  1.02                          3.58     1290  \n",
       "6             5.05  1.06                          3.58     1295  \n",
       "7             5.20  1.08                          2.85     1045  \n",
       "8             7.22  1.01                          3.55     1045  "
      ]
     },
     "execution_count": 12,
     "metadata": {},
     "output_type": "execute_result"
    }
   ],
   "source": [
    "df_wine.head(n=9)"
   ]
  },
  {
   "cell_type": "code",
   "execution_count": 35,
   "metadata": {},
   "outputs": [],
   "source": [
    "from sklearn.model_selection import train_test_split\n",
    "\n",
    "X,y = df_wine.iloc[:,1:].values, df_wine.iloc[:,0].values\n",
    "#print type(y)-> <type 'numpy.ndarray'>\n",
    "X_train,X_test,y_train,y_test = train_test_split(X,y,test_size=0.3,random_state=0)\n"
   ]
  },
  {
   "cell_type": "markdown",
   "metadata": {},
   "source": [
    "- 根据序列 iloc\n",
    "- 根据标签 loc"
   ]
  },
  {
   "cell_type": "markdown",
   "metadata": {
    "collapsed": true
   },
   "source": [
    "#### 4.4 將特徵值縮放到相同區間(Feature Scaling)\n",
    "\n",
    "##### 1. Normalization(MinMaxScaler)\n",
    "##### 2. Standardization(StandardScaler)\n",
    "\n",
    "- 當遇到需將數值限定在一個有界區間時 -> 最小最大縮放\n",
    "- 但是大部分ML Algorithm 標準化更實用\n",
    "    1. 因為logic regression SVC 之類的線性模型, 在訓練初階段, 權重初始化階段,....\n",
    "    2. 標準化保持了異常值含有的有用訊息, 使算法受到這些值影響較小"
   ]
  },
  {
   "cell_type": "code",
   "execution_count": 14,
   "metadata": {},
   "outputs": [],
   "source": [
    "from sklearn.preprocessing import MinMaxScaler, StandardScaler\n",
    "\n",
    "stds = StandardScaler()\n",
    "mms = MinMaxScaler()\n",
    "\n",
    "X_train_norm = mms.fit_transform(X_train)\n",
    "X_test_norm = mms.transform(X_test)\n",
    "\n",
    "X_train_std = stds.fit_transform(X_train)\n",
    "X_test_std = stds.transform(X_test)\n",
    "\n",
    "#print X_train_norm\n",
    "#print X_train_std"
   ]
  },
  {
   "cell_type": "markdown",
   "metadata": {},
   "source": [
    "#### 4.5 選擇有意義的特徵\n",
    "1. 如果模型在train data的表現比test data好很多 -> 模型overfitting\n",
    "2. overfitting表示模型對train data裡某些觀測值fit非常好, 但train data與真實數據的分布並不一致\n",
    "3. overfitting -> 較高方差(variance), 原因可能有建立在給定train data的模型過於複雜\n",
    "4. 解決方案有:\n",
    "    - 降低數據dimension\n",
    "    - 選擇參數較少的簡單模型\n",
    "    - 正則化引入罰項?\n",
    "    - 收集更多訓練數據(但一般來說不適用)"
   ]
  },
  {
   "cell_type": "markdown",
   "metadata": {},
   "source": [
    "###### 4.5.1 使用L1正則化滿足數據稀疏化\n",
    "<a href=https://read01.com/denmAk.html#.Wfaw_Gi0OUk>L1 L2正則化解釋</a>\n",
    "\n",
    "- 先理解觀念 和 使用條件限制\n",
    "- 數學模型有空再看...."
   ]
  },
  {
   "cell_type": "code",
   "execution_count": 15,
   "metadata": {},
   "outputs": [
    {
     "name": "stdout",
     "output_type": "stream",
     "text": [
      "training accuracy 0.975609756098\n",
      "test accuracy 0.981481481481\n",
      "[-0.39564381 -0.07925907 -0.72033317]\n",
      "[[ 0.34964555  0.          0.         -0.09751206  0.          0.\n",
      "   0.46816094  0.          0.          0.          0.          0.10604476\n",
      "   1.26832386]\n",
      " [-0.72617719 -0.10581067 -0.1461918   0.          0.          0.          0.\n",
      "   0.          0.         -0.91537592  0.          0.         -0.27543441]\n",
      " [ 0.          0.07539445  0.          0.          0.          0.\n",
      "  -0.75539063  0.          0.          0.57022001 -0.35588527 -0.37941565\n",
      "   0.        ]]\n"
     ]
    }
   ],
   "source": [
    "from sklearn.linear_model import LogisticRegression\n",
    "#LogisticRegression(penalty='l1')\n",
    "lr = LogisticRegression(penalty='l1',C=0.1)\n",
    "lr.fit(X_train_std,y_train)\n",
    "\n",
    "print 'training accuracy', lr.score(X_train_std,y_train)\n",
    "print 'test accuracy', lr.score(X_test_std,y_test)\n",
    "print lr.intercept_\n",
    "print lr.coef_"
   ]
  },
  {
   "cell_type": "markdown",
   "metadata": {},
   "source": [
    "**lr.intercept_ : 截距類第一項,類別1相對於類別2,3的匹配結果...以此類推**\n",
    "\n",
    "**lr.coef_: 三個權重係數稀疏向量,**"
   ]
  },
  {
   "cell_type": "markdown",
   "metadata": {},
   "source": [
    "#### 4.5.2序列特徵選擇法"
   ]
  },
  {
   "cell_type": "code",
   "execution_count": 20,
   "metadata": {},
   "outputs": [],
   "source": [
    "from sklearn.base import clone\n",
    "from itertools import combinations\n",
    "import numpy as np\n",
    "from sklearn.cross_validation import train_test_split\n",
    "from sklearn.metrics import accuracy_score\n",
    "\n",
    "class SBS():\n",
    "    \n",
    "    def __init__(self,estimator,k_feature,scoring=accuracy_score,test_size=0.25,\n",
    "                 random_state=1):\n",
    "        \n",
    "        self.scoring = scoring\n",
    "        self.estimator = clone(estimator)\n",
    "        self.k_feature = k_feature\n",
    "        self.test_size = test_size\n",
    "        self.random_state = random_state\n",
    "        \n",
    "        \n",
    "    def fit(self, X, y):\n",
    "            X_train,X_test,y_train,y_test = \\\n",
    "            train_test_split(X,y,test_size=self.test_size,random_state = self.random_state)\n",
    "            \n",
    "            dim = X_train.shape[1]\n",
    "            self.indices_ = tuple(range(dim))\n",
    "            self.subsets_ = [self.indices_]\n",
    "            score = self._calc_score(X_train,y_train,X_test,y_test,self.indices_)\n",
    "            \n",
    "            self.scores_ = [score]\n",
    "            \n",
    "            while dim > self.k_feature:\n",
    "                scores = []\n",
    "                subsets = []\n",
    "                \n",
    "                for p in combinations(self.indices_,r=dim-1):\n",
    "                    score = self._calc_score(X_train,y_train,X_test,y_test,p)\n",
    "                    \n",
    "                    scores.append(score)\n",
    "                    subsets.append(p)\n",
    "                    \n",
    "                best = np.argmax(scores)\n",
    "                self.indices_ = subsets[best]\n",
    "                self.subsets_.append(self.indices_)\n",
    "                dim -= 1\n",
    "                \n",
    "                self.scores_.append(scores[best])\n",
    "            self.k_score_ = self.scores_[-1]\n",
    "            \n",
    "            return self\n",
    "                              \n",
    "                          \n",
    "            \n",
    "    def transform(self,X):\n",
    "        return  X[:,self.indices_]\n",
    "      \n",
    "    \n",
    "    def _calc_score(self,X_train,y_train,X_test,y_test,indices):     \n",
    "        self.estimator.fit(X_train[:,indices],y_train)\n",
    "        y_pred =self.estimator.predict(X_test[:,indices])\n",
    "        score = self.scoring(y_test,y_pred)\n",
    "        return score\n",
    "        "
   ]
  },
  {
   "cell_type": "markdown",
   "metadata": {},
   "source": [
    "```python\n",
    "class MyClass(object):\n",
    "    i = 123\n",
    "    def __init__(self):\n",
    "         self.i = 345\n",
    "\n",
    "a = MyClass()\n",
    "print a.i\n",
    "345\n",
    "print MyClass.i\n",
    "123\n",
    "```"
   ]
  },
  {
   "cell_type": "code",
   "execution_count": 21,
   "metadata": {},
   "outputs": [
    {
     "data": {
      "text/plain": [
       "<__main__.SBS instance at 0x000000000965F448>"
      ]
     },
     "execution_count": 21,
     "metadata": {},
     "output_type": "execute_result"
    }
   ],
   "source": [
    "from sklearn.neighbors import KNeighborsClassifier\n",
    "import matplotlib.pyplot as plt\n",
    "knn = KNeighborsClassifier(n_neighbors=2)\n",
    "sbs = SBS(knn,k_feature=1)\n",
    "sbs.fit(X_train_std,y_train)"
   ]
  },
  {
   "cell_type": "code",
   "execution_count": 24,
   "metadata": {},
   "outputs": [
    {
     "data": {
      "image/png": "[encoded data removed]",
      "text/plain": [
       "<matplotlib.figure.Figure at 0xbf48b38>"
      ]
     },
     "metadata": {},
     "output_type": "display_data"
    }
   ],
   "source": [
    "k_feat = [len(k) for k in sbs.subsets_]\n",
    "plt.plot(k_feat,sbs.scores_,marker='o')\n",
    "plt.ylim([0.7,1.1])\n",
    "plt.xlabel('num of feature')\n",
    "plt.ylabel('accuracy')\n",
    "plt.grid()\n",
    "plt.show()"
   ]
  },
  {
   "cell_type": "markdown",
   "metadata": {},
   "source": [
    "#### 隨機森林判定特徵的重要性"
   ]
  },
  {
   "cell_type": "code",
   "execution_count": 55,
   "metadata": {},
   "outputs": [
    {
     "name": "stdout",
     "output_type": "stream",
     "text": [
      "1 : Alcohol -> 0.17320944096\n",
      "2 : Malic acid -> 0.157229633945\n",
      "3 : Ash -> 0.148917149672\n",
      "4 : Alcalinity of ash -> 0.115303580864\n",
      "5 : Magnesium -> 0.109024691593\n",
      "6 : Total phenols -> 0.0765708426511\n",
      "7 : Flavanoids -> 0.0521404076338\n",
      "8 : Nonflavanoid phenols -> 0.0430592988709\n",
      "9 : Proanthocyanins -> 0.0361703786893\n",
      "10 : Color intensity -> 0.0283094891077\n",
      "11 : Hue -> 0.0274929806742\n",
      "12 : OD280/OD315 of diluted wines -> 0.0177175674878\n",
      "13 : Proline -> 0.0148545378525\n"
     ]
    }
   ],
   "source": [
    "from sklearn.ensemble import RandomForestClassifier\n",
    "\n",
    "feat_label = df_wine.columns[1:]\n",
    "#print feat_label\n",
    "forest = RandomForestClassifier(n_estimators=1000,random_state=0)\n",
    "\n",
    "forest.fit(X_train,y_train)\n",
    "\n",
    "importance = forest.feature_importances_\n",
    "\n",
    "indices = np.argsort(importance)[::-1]\n",
    "\n",
    "for f in range(X_train.shape[1]):\n",
    "    print f+1,':',feat_label[f],'->',importance[indices[f]]"
   ]
  },
  {
   "cell_type": "code",
   "execution_count": 47,
   "metadata": {},
   "outputs": [
    {
     "data": {
      "image/png": "[encoded data removed]",
      "text/plain": [
       "<matplotlib.figure.Figure at 0xc3b7ba8>"
      ]
     },
     "metadata": {},
     "output_type": "display_data"
    }
   ],
   "source": [
    "plt.title('Feature importance')\n",
    "plt.bar(range(X_train.shape[1]),importance[indices],color='lightblue',align='center')\n",
    "plt.xticks(range(X_train.shape[1]),feat_label,rotation=90)\n",
    "plt.xlim([-1,X_train.shape[1]])\n",
    "plt.tight_layout()\n",
    "plt.show()"
   ]
  },
  {
   "cell_type": "code",
   "execution_count": null,
   "metadata": {
    "collapsed": true
   },
   "outputs": [],
   "source": []
  }
 ],
 "metadata": {
  "kernelspec": {
   "display_name": "Python 2",
   "language": "python",
   "name": "python2"
  },
  "language_info": {
   "codemirror_mode": {
    "name": "ipython",
    "version": 2
   },
   "file_extension": ".py",
   "mimetype": "text/x-python",
   "name": "python",
   "nbconvert_exporter": "python",
   "pygments_lexer": "ipython2",
   "version": "2.7.13"
  }
 },
 "nbformat": 4,
 "nbformat_minor": 2
}
