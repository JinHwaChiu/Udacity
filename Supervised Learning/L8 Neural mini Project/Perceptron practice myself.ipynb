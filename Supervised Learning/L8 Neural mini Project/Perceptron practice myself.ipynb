{
 "cells": [
  {
   "cell_type": "code",
   "execution_count": 20,
   "metadata": {},
   "outputs": [],
   "source": [
    "import numpy as np\n",
    "import matplotlib.pyplot as plt\n",
    "\n",
    "#其中 X1 是資料的X座標, X2 是資料的Y座標, Y是資料的分類的結果, 不是Y座標\n",
    "X1 = np.array([-0.62231486, -0.96251306,  0.42269922, -1.452746  , -0.66915783,\n",
    "               -0.35716016,  0.49505163, -1.8117848 ,  0.53376487, -1.86923838,\n",
    "                0.71434306, -0.4055084 ,  0.82887254,  0.81221287,  1.44280951,\n",
    "               -0.45599278, -1.16715888,  1.08913131, -1.61470741,  1.61113001,\n",
    "               -1.4532688 ,  1.04872588, -1.52312195, -1.62831727, -0.25191539])\n",
    "\n",
    "X2 = np.array([-1.67427011, -1.81046748,  1.20384694, -0.41572751,  0.66851908,\n",
    "               -1.75435288, -1.57532207, -1.22329618, -0.84375819,  0.52873296,\n",
    "               -1.10837773,  0.04612922,  0.67696196,  0.84618152, -0.77362548,\n",
    "                0.99153072,  1.7896494 , -0.38343121, -0.21337742,  0.64754817,\n",
    "                0.36719101,  0.23132427,  1.07029963,  1.62919909, -1.53920827])\n",
    "\n",
    "Y = np.array([  1.,  -1.,  -1.,  -1.,  -1.,\n",
    "                1.,   1.,  -1.,   1.,  -1.,\n",
    "                1.,  -1.,   1.,   1.,   1., \n",
    "               -1.,  -1.,   1.,  -1.,   1., \n",
    "               -1.,   1.,  -1.,  -1.,   1.])\n",
    "def plot_data():\n",
    "    fig =plt.figure()\n",
    "    ax = fig.add_subplot(111)\n",
    "    plt.scatter(X1[Y >= 0])"
   ]
  },
  {
   "cell_type": "code",
   "execution_count": 48,
   "metadata": {},
   "outputs": [],
   "source": [
    "def plot_data_and_line(w1,w2):\n",
    "    xl1 = yl1 =-2.0\n",
    "    xl2 = yl2 = 2.0\n",
    "    w1,w2 = float(w1),float(w2)\n",
    "    #判斷斜率是否無限大\n",
    "    if w2 != 0 :\n",
    "        y1,y2 = (-w1*(xl1))/w2, (-w1*(xl2))/w2\n",
    "        vx1,vy1 = [xl1,xl2,xl2,xl1,xl1], [y1,y2,yl2,yl2,y1]\n",
    "        vx2,vy2 = [xl1,xl2,xl2,xl1,xl1], [y1,y2,yl1,yl1,y1]\n",
    "    elif w1 != 0:\n",
    "        vx1,vy1 = [xl2,0,0,xl2,xl2], [yl1,yl1,yl2,yl2,yl1]\n",
    "        vx2,vy2 = [xl1,0,0,xl1,xl1], [yl1,yl1,yl2,yl2,yl1]\n",
    "    else:\n",
    "        print \"ERROR, Invalid w1 and w2.\"\n",
    "        return;\n",
    "    if  w2 > 0 or ( w2 == 0 and w1 > 0):\n",
    "        c1,c2 = 'b','r'\n",
    "    else:\n",
    "        c1,c2 = 'r','b'\n",
    "        \n",
    "\n",
    "    fig = plt.figure()\n",
    "    ax = fig.add_subplot(111)\n",
    "    plt.scatter(X1[Y > 0], X2[Y > 0], s = 80, c = 'b', marker = \"o\")\n",
    "    plt.scatter(X1[Y<= 0], X2[Y<= 0], s = 80, c = 'r', marker = \"^\")\n",
    "    plt.fill(vx1, vy1, c1, alpha = 0.25)\n",
    "    plt.fill(vx2, vy2, c2, alpha = 0.25)\n",
    "    ax.set_title((\"w1 = %s, w2 = %s\")%( w1, w2))\n",
    "    ax.set_xlim(xl1, xl2)\n",
    "    ax.set_ylim(yl1, yl2)\n",
    "    fig.set_size_inches(6, 6)\n",
    "    plt.show()"
   ]
  },
  {
   "cell_type": "code",
   "execution_count": 45,
   "metadata": {
    "collapsed": true
   },
   "outputs": [],
   "source": [
    "def learn_perceptron(times=1000):\n",
    "    w1,w2 = 1,1\n",
    "    for i in range(times):\n",
    "        ERR = (w1*X1+w2*X2) * Y < 0\n",
    "        if len(filter(bool,ERR)) > 0:\n",
    "            err_x1,err_x2,err_y = X1[ERR][0],X2[ERR][0],Y[ERR][0]\n",
    "            w1,w2 = (w1+err_y*err_x1),(w2+err_y*err_x2)\n",
    "        else: \n",
    "            print \"Complete!\"\n",
    "            break;\n",
    "    plot_data_and_line(w1,w2)"
   ]
  },
  {
   "cell_type": "code",
   "execution_count": 46,
   "metadata": {},
   "outputs": [
    {
     "name": "stdout",
     "output_type": "stream",
     "text": [
      "Complete!\n"
     ]
    },
    {
     "data": {
      "image/png": "[encoded data removed]",
      "text/plain": [
       "<matplotlib.figure.Figure at 0x7b8c908>"
      ]
     },
     "metadata": {},
     "output_type": "display_data"
    }
   ],
   "source": [
    "learn_perceptron(times=1000)"
   ]
  },
  {
   "cell_type": "code",
   "execution_count": null,
   "metadata": {
    "collapsed": true
   },
   "outputs": [],
   "source": []
  }
 ],
 "metadata": {
  "kernelspec": {
   "display_name": "Python 2",
   "language": "python",
   "name": "python2"
  },
  "language_info": {
   "codemirror_mode": {
    "name": "ipython",
    "version": 2
   },
   "file_extension": ".py",
   "mimetype": "text/x-python",
   "name": "python",
   "nbconvert_exporter": "python",
   "pygments_lexer": "ipython2",
   "version": "2.7.13"
  }
 },
 "nbformat": 4,
 "nbformat_minor": 2
}
