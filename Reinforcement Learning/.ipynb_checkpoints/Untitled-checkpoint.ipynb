{
 "cells": [
  {
   "cell_type": "code",
   "execution_count": 1,
   "metadata": {
    "collapsed": true
   },
   "outputs": [],
   "source": [
    "import pyglet"
   ]
  },
  {
   "cell_type": "code",
   "execution_count": 8,
   "metadata": {},
   "outputs": [
    {
     "ename": "NameError",
     "evalue": "name 'state_dim' is not defined",
     "output_type": "error",
     "traceback": [
      "\u001b[1;31m---------------------------------------------------------------------------\u001b[0m",
      "\u001b[1;31mNameError\u001b[0m                                 Traceback (most recent call last)",
      "\u001b[1;32m<ipython-input-8-3b7fe08c858a>\u001b[0m in \u001b[0;36m<module>\u001b[1;34m()\u001b[0m\n\u001b[0;32m     51\u001b[0m \u001b[1;33m\u001b[0m\u001b[0m\n\u001b[0;32m     52\u001b[0m \u001b[1;32mif\u001b[0m \u001b[0m__name__\u001b[0m \u001b[1;33m==\u001b[0m \u001b[1;34m'__main__'\u001b[0m\u001b[1;33m:\u001b[0m\u001b[1;33m\u001b[0m\u001b[0m\n\u001b[1;32m---> 53\u001b[1;33m     \u001b[0menv\u001b[0m \u001b[1;33m=\u001b[0m \u001b[0mArmEnv\u001b[0m\u001b[1;33m(\u001b[0m\u001b[1;33m)\u001b[0m\u001b[1;33m\u001b[0m\u001b[0m\n\u001b[0m\u001b[0;32m     54\u001b[0m     \u001b[1;32mwhile\u001b[0m \u001b[1;32mTrue\u001b[0m\u001b[1;33m:\u001b[0m\u001b[1;33m\u001b[0m\u001b[0m\n\u001b[0;32m     55\u001b[0m         \u001b[0menv\u001b[0m\u001b[1;33m.\u001b[0m\u001b[0mrender\u001b[0m\u001b[1;33m(\u001b[0m\u001b[1;33m)\u001b[0m\u001b[1;33m\u001b[0m\u001b[0m\n",
      "\u001b[1;32m<ipython-input-8-3b7fe08c858a>\u001b[0m in \u001b[0;36m__init__\u001b[1;34m(self)\u001b[0m\n\u001b[0;32m      4\u001b[0m     \u001b[0mviewer\u001b[0m \u001b[1;33m=\u001b[0m \u001b[1;32mNone\u001b[0m\u001b[1;33m\u001b[0m\u001b[0m\n\u001b[0;32m      5\u001b[0m     \u001b[1;32mdef\u001b[0m \u001b[0m__init__\u001b[0m\u001b[1;33m(\u001b[0m\u001b[0mself\u001b[0m\u001b[1;33m)\u001b[0m\u001b[1;33m:\u001b[0m\u001b[1;33m\u001b[0m\u001b[0m\n\u001b[1;32m----> 6\u001b[1;33m         \u001b[0mself\u001b[0m\u001b[1;33m.\u001b[0m\u001b[0mstate_dim\u001b[0m \u001b[1;33m=\u001b[0m \u001b[0mstate_dim\u001b[0m\u001b[1;33m\u001b[0m\u001b[0m\n\u001b[0m\u001b[0;32m      7\u001b[0m         \u001b[0mself\u001b[0m\u001b[1;33m.\u001b[0m\u001b[0maction_dim\u001b[0m \u001b[1;33m=\u001b[0m \u001b[0maction_dim\u001b[0m\u001b[1;33m\u001b[0m\u001b[0m\n\u001b[0;32m      8\u001b[0m         \u001b[0mself\u001b[0m\u001b[1;33m.\u001b[0m\u001b[0maction_bound\u001b[0m \u001b[1;33m=\u001b[0m \u001b[0maction_bound\u001b[0m\u001b[1;33m\u001b[0m\u001b[0m\n",
      "\u001b[1;31mNameError\u001b[0m: name 'state_dim' is not defined"
     ]
    }
   ],
   "source": [
    "import numpy as np\n",
    "import pyglet\n",
    "class ArmEnv(object):\n",
    "    viewer = None\n",
    "    def __init__(self):\n",
    "        pass\n",
    "    def step(self,action):\n",
    "        pass\n",
    "    def reset(self):\n",
    "        pass\n",
    "    def render(self):\n",
    "        if self.viewer is None:\n",
    "            self.viewer = Viewer()\n",
    "        self.viewer.render()\n",
    "\n",
    "class Viewer(pyglet.window.Window):\n",
    "    bar_thc = 5\n",
    "    def __init__(self):\n",
    "        super(Viewer,self).__init__(width=400,height=400,resizable=False,caption='Arm')\n",
    "        pyglet.gl.glClearColor(1,1,1,1)\n",
    "        self.batch = pyglet.graphics.Batch()\n",
    "         # 添加蓝点\n",
    "        self.point = self.batch.add(\n",
    "            4, pyglet.gl.GL_QUADS, None,    # 4 corners\n",
    "            ('v2f', [50, 50,                # x1, y1\n",
    "                     50, 100,               # x2, y2\n",
    "                     100, 100,              # x3, y3\n",
    "                     100, 50]),             # x4, y4\n",
    "            ('c3B', (86, 109, 249) * 4))    # color\n",
    "\n",
    "        # 添加一条手臂\n",
    "        self.arm1 = self.batch.add(\n",
    "            4, pyglet.gl.GL_QUADS, None,\n",
    "            ('v2f', [250, 250,              # 同上, 点信息\n",
    "                     250, 300,\n",
    "                     260, 300,\n",
    "                     260, 250]),\n",
    "            ('c3B', (249, 86, 86) * 4,))    # color\n",
    "\n",
    "    def render(self):\n",
    "        self._update_arm()\n",
    "        self.switch_to()\n",
    "        self.dispatch_events()\n",
    "        self.dispatch_event('on_draw')\n",
    "        self.flip()\n",
    "        \n",
    "    def on_draw(self):\n",
    "        self.clear()\n",
    "        self.batch.draw()\n",
    "    def _update_arm(self):\n",
    "        pass\n",
    "\n",
    "if __name__ == '__main__':\n",
    "    env = ArmEnv()\n",
    "    while True:\n",
    "        env.render()"
   ]
  },
  {
   "cell_type": "code",
   "execution_count": null,
   "metadata": {
    "collapsed": true
   },
   "outputs": [],
   "source": []
  }
 ],
 "metadata": {
  "kernelspec": {
   "display_name": "Python 3",
   "language": "python",
   "name": "python3"
  }
 },
 "nbformat": 4,
 "nbformat_minor": 2
}
