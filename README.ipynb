{
 "cells": [
  {
   "cell_type": "markdown",
   "metadata": {},
   "source": [
    "## Machine Learning Engineer Nanodegree Program(Udacity)"
   ]
  },
  {
   "cell_type": "markdown",
   "metadata": {},
   "source": [
    "### Summary:\n",
    "\n",
    "#### Machine Learning Foundations/MLF version1\n",
    "\n",
    "#### Supervised\n",
    "\n",
    "#### Unsupervised\n",
    "\n",
    "#### Reinforcement \n",
    "\n",
    "#### Deep Learning/TensorFlow\n",
    "\n",
    "#### Machine Learning Capstone/Projects\n",
    "    \n",
    "    - titanic_survival_exploration\n",
    "    - Boston_Housing\n",
    "    - finding_donors\n",
    "    - smartcab\n",
    "    - customer_segments\n",
    "    - digit_recognition\n",
    "    - dog-project-master\n",
    "    - image-classification\n",
    "    - intro-to-tensorflow\n",
    "\n",
    "#### Career: (Orientation, Job Search Strategies, Networking, ML Interview)\n",
    "\n",
    "-----------------------------------------------------------------------------------------------"
   ]
  },
  {
   "cell_type": "code",
   "execution_count": null,
   "metadata": {
    "collapsed": true
   },
   "outputs": [],
   "source": []
  }
 ],
 "metadata": {
  "kernelspec": {
   "display_name": "Python 3",
   "language": "python",
   "name": "python3"
  },
  "language_info": {
   "codemirror_mode": {
    "name": "ipython",
    "version": 3
   },
   "file_extension": ".py",
   "mimetype": "text/x-python",
   "name": "python",
   "nbconvert_exporter": "python",
   "pygments_lexer": "ipython3",
   "version": "3.5.4"
  }
 },
 "nbformat": 4,
 "nbformat_minor": 2
}
