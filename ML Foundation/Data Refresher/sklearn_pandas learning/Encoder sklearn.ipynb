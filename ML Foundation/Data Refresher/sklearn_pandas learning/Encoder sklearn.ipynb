{
 "cells": [
  {
   "cell_type": "markdown",
   "metadata": {},
   "source": [
    "Encoding using sklearn:\n",
    "--\n",
    "Encoding in sklearn is done using the __preprocessing module__ which comes with a variety of options of manipulating data before going into the analysis of data. We will focus on two forms of encoding for now, the __LabelEncoder__ and the __OneHotEncoder__.\n",
    "\n",
    "#### 1. Label Encoder\n",
    "- First, we have to import the preprocessing library.\n",
    "- Let's create __a dummy dataframe__ named data with a column whose values we want to __transform from categories to integers__\n",
    "\n",
    "__简单来说 LabelEncoder 是对不连续的数字或者文本进行编号__"
   ]
  },
  {
   "cell_type": "markdown",
   "metadata": {},
   "source": [
    "##### fit(y)\n",
    "- Fit label encoder\n",
    "\n",
    "| | |\n",
    "|-----------|---------------|\n",
    "|Parameters | __y__ : array-like of shape (n_samples,) Target values.|\n",
    "|Returns|__self__ : returns an instance of self.|"
   ]
  },
  {
   "cell_type": "code",
   "execution_count": 23,
   "metadata": {},
   "outputs": [
    {
     "name": "stdout",
     "output_type": "stream",
     "text": [
      "    name health\n",
      "0    Ray    fit\n",
      "1   Adam   slim\n",
      "2  Jason  obese\n",
      "3  Varun    fit\n",
      "4   Xiao   slim\n"
     ]
    },
    {
     "data": {
      "text/plain": [
       "array([0, 2, 1, 0, 2], dtype=int64)"
      ]
     },
     "execution_count": 23,
     "metadata": {},
     "output_type": "execute_result"
    }
   ],
   "source": [
    "import pandas as pd\n",
    "from sklearn import preprocessing as pp\n",
    "\n",
    "#sample data\n",
    "sample_data = {'name':['Ray', 'Adam', 'Jason', 'Varun', 'Xiao'],\n",
    "               'health':['fit', 'slim', 'obese', 'fit', 'slim']}\n",
    "#store sample data in dataframe\n",
    "data = pd.DataFrame(sample_data,columns = ['name','health'])\n",
    "print data\n",
    "#categories to integers\n",
    "label_encoder = pp.LabelEncoder()\n",
    "#label_encoder.fit_transform(data['health'])\n",
    "label_encoder.fit(data['health'])\n",
    "label_encoder.transform(data['health'])"
   ]
  },
  {
   "cell_type": "markdown",
   "metadata": {},
   "source": [
    "One thing to keep in mind when encoding data is the fact that you do not want to skew your analysis because of the numbers that are assigned to your categories. For example, in the above example, slim is assigned a value 2 and obese a value 1. This is not to say that the intention here is to have slim be a value that is empirically twice is likely to affect your analysis as compared to obese. In such situations it is better to one-hot encode your data as all categories are assigned a 0 or a 1 value thereby removing any unwanted biases that may creep in if you simply label encode your data.\n",
    "\n",
    "#### 2. One-hot Encoder\n",
    "If we were to apply the one-hot transformation to the same example we had above, we'd do it in __Pandas__ using __get_dummies__ as follows:\n",
    "\n",
    "__OneHotEncoder 用于将表示分类的数据扩维__"
   ]
  },
  {
   "cell_type": "code",
   "execution_count": 24,
   "metadata": {},
   "outputs": [
    {
     "name": "stdout",
     "output_type": "stream",
     "text": [
      "   fit  obese  slim\n",
      "0    1      0     0\n",
      "1    0      0     1\n",
      "2    0      1     0\n",
      "3    1      0     0\n",
      "4    0      0     1\n",
      "[0 2 1 0 2]\n",
      "  (0, 0)\t1.0\n",
      "  (1, 2)\t1.0\n",
      "  (2, 1)\t1.0\n",
      "  (3, 0)\t1.0\n",
      "  (4, 2)\t1.0\n"
     ]
    }
   ],
   "source": [
    "dummy = pd.get_dummies(data['health'])\n",
    "print dummy\n",
    "\n",
    "#We could do this in sklearn on the label encoded data \n",
    "#using OneHotEncoder as follows:\n",
    "\n",
    "ohe = pp.OneHotEncoder() # creating OneHotEncoder object\n",
    "label_encoded_data = label_encoder.fit_transform(data['health'])\n",
    "print label_encoded_data\n",
    "print ohe.fit_transform(label_encoded_data.reshape(-1,1))\n"
   ]
  },
  {
   "cell_type": "code",
   "execution_count": null,
   "metadata": {
    "collapsed": true
   },
   "outputs": [],
   "source": []
  },
  {
   "cell_type": "code",
   "execution_count": null,
   "metadata": {
    "collapsed": true
   },
   "outputs": [],
   "source": []
  }
 ],
 "metadata": {
  "kernelspec": {
   "display_name": "Python 2",
   "language": "python",
   "name": "python2"
  },
  "language_info": {
   "codemirror_mode": {
    "name": "ipython",
    "version": 2
   },
   "file_extension": ".py",
   "mimetype": "text/x-python",
   "name": "python",
   "nbconvert_exporter": "python",
   "pygments_lexer": "ipython2",
   "version": "2.7.13"
  }
 },
 "nbformat": 4,
 "nbformat_minor": 2
}
