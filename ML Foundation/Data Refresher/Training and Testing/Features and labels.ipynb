{
 "cells": [
  {
   "cell_type": "markdown",
   "metadata": {},
   "source": [
    "##### Features and Labels\n",
    "As you continue your journey into designing ML algorithms using sklearn, you will come across two new terms namely, Features and Labels.\n",
    "\n",
    "Features are individual measurable properties that you will be using to make predictions about your labels.\n",
    "\n",
    "To understand this better, let's use an example. Let's say you are trying to design a model that will be able to predict whether you will like a particular kind of cuisine or not. For this case, the __label__ is a **Yes** for when the model thinks you will like said cuisine and __No__ for when it thinks otherwise. The features here could be things like __Sweetness, Spicyness, Bitterness, Tangyness__ and the like. One thing to note here is that when using our features we have to make sure that __they are represented in a way that doesn't skew one feature over another__, in other words it's usually a good idea to __normalize or standardize__ your features; you will learn about these concepts in future lessons.\n",
    "\n",
    "For now, as long as you understand the premise of what features and labels are and how they are used, you can proceed to the next node where Sebastian will explain this concept using a visual example."
   ]
  },
  {
   "cell_type": "markdown",
   "metadata": {},
   "source": [
    "##### Quiz: Train/Test Split In Sklearn\n",
    "The api of train_test_split changed and moved from sklearn.cross_validation to sklearn.model_selection. The correct documentation for this quiz is here: http://scikit-learn.org/0.17/modules/cross_validation.html"
   ]
  },
  {
   "cell_type": "code",
   "execution_count": 2,
   "metadata": {},
   "outputs": [
    {
     "name": "stdout",
     "output_type": "stream",
     "text": [
      "1.0\n"
     ]
    }
   ],
   "source": [
    "#!/usr/bin/python\n",
    "\n",
    "\"\"\" \n",
    "PLEASE NOTE:\n",
    "The api of train_test_split changed and moved from sklearn.cross_validation to\n",
    "sklearn.model_selection(version update from 0.17 to 0.18)\n",
    "\n",
    "The correct documentation for this quiz is here: \n",
    "http://scikit-learn.org/0.17/modules/cross_validation.html\n",
    "\"\"\"\n",
    "\n",
    "from sklearn import datasets\n",
    "from sklearn.svm import SVC\n",
    "\n",
    "iris = datasets.load_iris()\n",
    "features = iris.data\n",
    "labels = iris.target\n",
    "\n",
    "###############################################################\n",
    "### YOUR CODE HERE\n",
    "###############################################################\n",
    "\n",
    "### import the relevant code and make your train/test split\n",
    "### name the output datasets features_train, features_test,\n",
    "### labels_train, and labels_test\n",
    "# PLEASE NOTE: The import here changes depending on your version of sklearn\n",
    "#from sklearn import cross_validation # for version 0.17\n",
    "# For version 0.18\n",
    "from sklearn.model_selection import train_test_split\n",
    "\n",
    "\n",
    "### set the random_state to 0 and the test_size to 0.4 so\n",
    "### we can exactly check your result\n",
    "features_train, features_test, labels_train, labels_test = \\\n",
    "cross_validation.train_test_split(features,labels)\n",
    "\n",
    "###############################################################\n",
    "# DONT CHANGE ANYTHING HERE\n",
    "clf = SVC(kernel=\"linear\", C=1.)\n",
    "clf.fit(features_train, labels_train)\n",
    "\n",
    "print clf.score(features_test, labels_test)\n",
    "##############################################################\n",
    "def submitAcc():\n",
    "    return clf.score(features_test, labels_test)\n"
   ]
  },
  {
   "cell_type": "markdown",
   "metadata": {},
   "source": []
  }
 ],
 "metadata": {
  "kernelspec": {
   "display_name": "Python 2",
   "language": "python",
   "name": "python2"
  },
  "language_info": {
   "codemirror_mode": {
    "name": "ipython",
    "version": 2
   },
   "file_extension": ".py",
   "mimetype": "text/x-python",
   "name": "python",
   "nbconvert_exporter": "python",
   "pygments_lexer": "ipython2",
   "version": "2.7.13"
  }
 },
 "nbformat": 4,
 "nbformat_minor": 2
}
