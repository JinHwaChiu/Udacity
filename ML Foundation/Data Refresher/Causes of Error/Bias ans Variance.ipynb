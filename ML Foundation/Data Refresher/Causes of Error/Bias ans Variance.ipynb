{
 "cells": [
  {
   "cell_type": "markdown",
   "metadata": {},
   "source": [
    "#### Causes of Error\n",
    "Now that we have covered some basic metrics for measuring model performance, let us turn our attention to reasons why models exhibit errors in the first place.\n",
    "\n",
    "In model prediction there are two main sources of errors that a model can suffer from.\n",
    "\n",
    "##### Bias\n",
    "Bias due to a model being unable to represent the complexity of the underlying data. __A high Bias model is said to underfit the data.__\n",
    "\n",
    "##### Variance\n",
    "Variance due to a model being overly sensitive to the limited data it has been trained on. __A high Variance model is said to overfit the data.__\n",
    "\n",
    "In the coming videos, we will go over each in detail."
   ]
  },
  {
   "cell_type": "markdown",
   "metadata": {},
   "source": [
    "#### Error due to Bias - Accuracy and Underfitting\n",
    "Bias occurs when a model has enough data but is not complex enough to capture the underlying relationships. As a result, the model consistently and systematically misrepresents the data, leading to low accuracy in prediction. This is known as underfitting. Simply put, bias occurs when we have an inadequate model.\n",
    "\n",
    "- Example 1\n",
    "An example might be when we have objects that are classified by color and shape, for example easter eggs, but our model can only partition and classify objects by color. It would therefore consistently mislabel future objects--for example labeling rainbows as easter eggs because they are colorful.\n",
    "\n",
    "- Example 2\n",
    "Another example would be continuous data that is polynomial in nature, with a model that can only represent linear relationships. In this case it does not matter how much data we feed the model because it cannot represent the underlying relationship. To overcome error from bias, we need a more complex model."
   ]
  },
  {
   "cell_type": "markdown",
   "metadata": {},
   "source": [
    "##### Error due to Variance - Precision and Overfitting\n",
    "When training a model, we typically use __a limited number of samples__ __from a larger population__. If we repeatedly train a model with randomly selected subsets of data, we would expect its predictons to be different based on the specific examples given to it. Here __variance is a measure of how much the predictions vary for any given test sample.__\n",
    "\n",
    "Some variance is normal, but __too much variance indicates that the model is unable to generalize its predictions to the larger population__. __High sensitivity to the training set is also known as overfitting__, and generally occurs when either the model is too complex or when we do not have enough data to support it.\n",
    "\n",
    "We can typically reduce the variability of a model's predictions and increase precision by training on more data. If more data is unavailable, we can also control variance by limiting our model's complexity.\n",
    "\n",
    "##### Bias - Variance and No. of Features\n",
    "- high bias: pays little attention to data oversimplified ; high error on training set(low r^2, large SSE) ; few features used\n",
    "\n",
    "- high variance : too much attention to data overfitted ; not generalized ; high error on test set than on training set ; many features\n",
    "\n",
    "\n",
    "\n",
    "\n",
    "\n",
    "\n",
    "![](https://pic2.zhimg.com/v2-286539c808d9a429e69fd59fe33a16dd_r.jpg)\n",
    "\n",
    "- 准：bias描述的是根据样本拟合出的模型的输出预测结果的期望与样本真实结果的差距，简单讲，就是在样本上拟合的好不好。要想在bias上表现好，low bias，就是复杂化模型，增加模型的参数，但这样容易过拟合 (overfitting)，过拟合对应上图是high varience，点很分散。low bias对应就是点都打在靶心附近，所以瞄的是准的，但手不一定稳。\n",
    "\n",
    "- 确：varience描述的是样本上训练出来的模型在测试集上的表现，要想在varience上表现好，low varience，就要简化模型，减少模型的参数，但这样容易欠拟合(unfitting)，欠拟合对应上图是high bias，点偏离中心。low varience对应就是点都打的很集中，但不一定是靶心附近，手很稳，但是瞄的不准。"
   ]
  },
  {
   "cell_type": "markdown",
   "metadata": {},
   "source": [
    "#### Learning Curve\n",
    "Now that you have understood the Bias and Variance concepts let us learn about ways we can identify when our model performs well. The Learning Curve functionality from sklearn can help us in this respect. It allows us to study the behavior of our model with respect to the number of data points being considered to understand if our model is performing well or not.\n",
    "\n",
    "To start with , we have to import the module:\n",
    "\n",
    "```python\n",
    "from sklearn.learning_curve import learning_curve # sklearn 0.17\n",
    "from sklearn.model_selection import learning_curve # sklearn 0.18\n",
    "```\n",
    "\n",
    "From the documentation, a reasonable implementation of the function would be as follows:\n",
    "\n",
    "```python\n",
    " learning_curve(\n",
    "        estimator, X, y, cv=cv, n_jobs=n_jobs, train_sizes=train_sizes)\n",
    "```\n",
    "\n",
    "Here, estimator is the model which we are using to make our predictions with, for example it could be defined as GaussianNB(), X and y are the features and label respectively, cv is the cross validation generator, for example KFold(), n_jobs is the parameter that decides if we want to run multiple operations in parallel and train_sizes is the number of training examples that will be considered to generate the curve.\n",
    "\n",
    "In the following quiz, you will define your learning curve for a model that we have designed for you and you will observe the results."
   ]
  },
  {
   "cell_type": "code",
   "execution_count": null,
   "metadata": {},
   "outputs": [],
   "source": []
  },
  {
   "cell_type": "code",
   "execution_count": null,
   "metadata": {},
   "outputs": [],
   "source": []
  },
  {
   "cell_type": "code",
   "execution_count": null,
   "metadata": {
    "collapsed": true
   },
   "outputs": [],
   "source": []
  }
 ],
 "metadata": {
  "kernelspec": {
   "display_name": "Python 2",
   "language": "python",
   "name": "python2"
  },
  "language_info": {
   "codemirror_mode": {
    "name": "ipython",
    "version": 2
   },
   "file_extension": ".py",
   "mimetype": "text/x-python",
   "name": "python",
   "nbconvert_exporter": "python",
   "pygments_lexer": "ipython2",
   "version": "2.7.13"
  }
 },
 "nbformat": 4,
 "nbformat_minor": 2
}
