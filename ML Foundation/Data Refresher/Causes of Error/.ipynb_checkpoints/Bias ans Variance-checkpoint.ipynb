{
 "cells": [
  {
   "cell_type": "markdown",
   "metadata": {},
   "source": [
    "#### Causes of Error\n",
    "Now that we have covered some basic metrics for measuring model performance, let us turn our attention to reasons why models exhibit errors in the first place.\n",
    "\n",
    "In model prediction there are two main sources of errors that a model can suffer from.\n",
    "\n",
    "##### Bias\n",
    "Bias due to a model being unable to represent the complexity of the underlying data. A high Bias model is said to underfit the data.\n",
    "\n",
    "##### Variance\n",
    "Variance due to a model being overly sensitive to the limited data it has been trained on. A high Variance model is said to overfit the data.\n",
    "\n",
    "In the coming videos, we will go over each in detail."
   ]
  },
  {
   "cell_type": "code",
   "execution_count": null,
   "metadata": {
    "collapsed": true
   },
   "outputs": [],
   "source": []
  }
 ],
 "metadata": {
  "kernelspec": {
   "display_name": "Python 2",
   "language": "python",
   "name": "python2"
  },
  "language_info": {
   "codemirror_mode": {
    "name": "ipython",
    "version": 2
   },
   "file_extension": ".py",
   "mimetype": "text/x-python",
   "name": "python",
   "nbconvert_exporter": "python",
   "pygments_lexer": "ipython2",
   "version": "2.7.13"
  }
 },
 "nbformat": 4,
 "nbformat_minor": 2
}
