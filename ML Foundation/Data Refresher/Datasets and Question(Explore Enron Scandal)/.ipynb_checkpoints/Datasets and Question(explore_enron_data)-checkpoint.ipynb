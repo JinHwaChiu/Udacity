{
 "cells": [
  {
   "cell_type": "code",
   "execution_count": 20,
   "metadata": {
    "collapsed": true,
    "scrolled": true
   },
   "outputs": [],
   "source": [
    "\"\"\" \n",
    "    Starter code for exploring the Enron dataset (emails + finances);\n",
    "    loads up the dataset (pickled dict of dicts).\n",
    "    The dataset has the form:\n",
    "    enron_data[\"LASTNAME FIRSTNAME MIDDLEINITIAL\"] = { features_dict }\n",
    "    {features_dict} is a dictionary of features associated with that person.\n",
    "    You should explore features_dict as part of the mini-project,\n",
    "    but here's an example to get you started:\n",
    "    enron_data[\"SKILLING JEFFREY K\"][\"bonus\"] = 5600000\n",
    "    \n",
    "\"\"\"\n",
    "\n",
    "import pickle\n",
    "\n",
    "enron_data = pickle.load(open(\"C:/Users/MLUSER/Documents/GitHub/ud120-projects/final_project/final_project_dataset.pkl\", \"r\"))\n",
    "\n"
   ]
  },
  {
   "cell_type": "code",
   "execution_count": 31,
   "metadata": {
    "collapsed": true
   },
   "outputs": [],
   "source": [
    "#points 有幾筆資料\n",
    "sum = 0\n",
    "for key in enron_data:\n",
    "    sum += 1"
   ]
  },
  {
   "cell_type": "code",
   "execution_count": 32,
   "metadata": {},
   "outputs": [
    {
     "data": {
      "text/plain": [
       "146"
      ]
     },
     "execution_count": 32,
     "metadata": {},
     "output_type": "execute_result"
    }
   ],
   "source": [
    "sum"
   ]
  },
  {
   "cell_type": "code",
   "execution_count": 67,
   "metadata": {
    "collapsed": true
   },
   "outputs": [],
   "source": [
    "#每筆資料有多少個特徵\n",
    "feature = 0\n",
    "for value in enron_data[\"SKILLING JEFFREY K\"]:\n",
    "    feature += 1       "
   ]
  },
  {
   "cell_type": "code",
   "execution_count": 68,
   "metadata": {},
   "outputs": [
    {
     "data": {
      "text/plain": [
       "21"
      ]
     },
     "execution_count": 68,
     "metadata": {},
     "output_type": "execute_result"
    }
   ],
   "source": [
    "feature"
   ]
  },
  {
   "cell_type": "code",
   "execution_count": 73,
   "metadata": {
    "collapsed": true
   },
   "outputs": [],
   "source": [
    "#Finding POIs In The Enron Data\n",
    "#In other words, count the number of entries in the dictionary where\n",
    "#data[person_name][\"poi\"]==1\n",
    "POI = 0\n",
    "for key in enron_data:\n",
    "    if enron_data[key][\"poi\"] == 1:\n",
    "        POI += 1\n",
    "        "
   ]
  },
  {
   "cell_type": "code",
   "execution_count": 74,
   "metadata": {
    "scrolled": false
   },
   "outputs": [
    {
     "data": {
      "text/plain": [
       "18"
      ]
     },
     "execution_count": 74,
     "metadata": {},
     "output_type": "execute_result"
    }
   ],
   "source": [
    "POI"
   ]
  },
  {
   "cell_type": "markdown",
   "metadata": {},
   "source": [
    "##### Quiz: How Many POIs Exist?\n",
    "We compiled a list of all POI names (in ../final_project/poi_names.txt) and associated email addresses (in ../final_project/poi_email_addresses.py).\n",
    "\n",
    "How many POI’s were there total? (Use the names file, not the email addresses, since many folks have more than one address and a few didn’t work for Enron, so we don’t have their emails.)"
   ]
  },
  {
   "cell_type": "markdown",
   "metadata": {},
   "source": [
    "main thought is about having enough data to really learn the patterns.  In general, more data is always better--only having 18 data points doesn't give you that many examples to learn from."
   ]
  },
  {
   "cell_type": "markdown",
   "metadata": {},
   "source": [
    "##### Quiz: Query The Dataset 1\n",
    "Like any dict of dicts, individual people/features can be accessed like so:\n",
    "\n",
    "```python\n",
    "enron_data[\"LASTNAME FIRSTNAME\"][\"feature_name\"]\n",
    "enron_data[\"LASTNAME FIRSTNAME MIDDLEINITIAL\"][\"feature_name\"]\n",
    "```\n",
    "What is the total value of the stock belonging to James Prentice?"
   ]
  },
  {
   "cell_type": "code",
   "execution_count": 84,
   "metadata": {},
   "outputs": [
    {
     "data": {
      "text/plain": [
       "1095040"
      ]
     },
     "execution_count": 84,
     "metadata": {},
     "output_type": "execute_result"
    }
   ],
   "source": [
    "enron_data[\"PRENTICE JAMES\"][\"total_stock_value\"]"
   ]
  },
  {
   "cell_type": "markdown",
   "metadata": {},
   "source": [
    "##### Quiz: Query The Dataset 2\n",
    "Like any dict of dicts, individual people/features can be accessed like so:\n",
    "```python\n",
    "enron_data[\"LASTNAME FIRSTNAME\"][\"feature_name\"]\n",
    "```\n",
    "How many email messages do we have from Wesley Colwell to persons of interest?"
   ]
  },
  {
   "cell_type": "code",
   "execution_count": 89,
   "metadata": {},
   "outputs": [
    {
     "data": {
      "text/plain": [
       "{'bonus': 1200000,\n",
       " 'deferral_payments': 27610,\n",
       " 'deferred_income': -144062,\n",
       " 'director_fees': 'NaN',\n",
       " 'email_address': 'wes.colwell@enron.com',\n",
       " 'exercised_stock_options': 'NaN',\n",
       " 'expenses': 16514,\n",
       " 'from_messages': 40,\n",
       " 'from_poi_to_this_person': 240,\n",
       " 'from_this_person_to_poi': 11,\n",
       " 'loan_advances': 'NaN',\n",
       " 'long_term_incentive': 'NaN',\n",
       " 'other': 101740,\n",
       " 'poi': True,\n",
       " 'restricted_stock': 698242,\n",
       " 'restricted_stock_deferred': 'NaN',\n",
       " 'salary': 288542,\n",
       " 'shared_receipt_with_poi': 1132,\n",
       " 'to_messages': 1758,\n",
       " 'total_payments': 1490344,\n",
       " 'total_stock_value': 698242}"
      ]
     },
     "execution_count": 89,
     "metadata": {},
     "output_type": "execute_result"
    }
   ],
   "source": [
    "enron_data[\"COLWELL WESLEY\"][\"from_this_person_to_poi\"]"
   ]
  },
  {
   "cell_type": "markdown",
   "metadata": {},
   "source": [
    "##### Quiz: Query The Dataset 3\n",
    "Like any dict of dicts, individual people/features can be accessed like so:\n",
    "\n",
    "```PYTHON\n",
    "enron_data[\"LASTNAME FIRSTNAME\"][\"feature_name\"]\n",
    "enron_data[\"LASTNAME FIRSTNAME MIDDLEINITIAL\"][\"feature_name\"]\n",
    "```\n",
    "What’s the value of stock options exercised by Jeffrey K Skilling?"
   ]
  },
  {
   "cell_type": "code",
   "execution_count": 97,
   "metadata": {},
   "outputs": [
    {
     "name": "stdout",
     "output_type": "stream",
     "text": [
      "8682716\n",
      "2424083\n",
      "103559793\n"
     ]
    }
   ],
   "source": [
    "print enron_data[\"SKILLING JEFFREY K\"]['total_payments']\n",
    "print enron_data[\"FASTOW ANDREW S\"]['total_payments']\n",
    "print enron_data[\"LAY KENNETH L\"]['total_payments']"
   ]
  },
  {
   "cell_type": "markdown",
   "metadata": {},
   "source": [
    "##### 27 Quiz: Dealing With Unfilled Features\n",
    "How many folks in this dataset have a quantified salary? What about a known email address?"
   ]
  },
  {
   "cell_type": "code",
   "execution_count": 100,
   "metadata": {},
   "outputs": [
    {
     "name": "stdout",
     "output_type": "stream",
     "text": [
      "95\n",
      "111\n"
     ]
    }
   ],
   "source": [
    "folks_email = 0\n",
    "folks_salary = 0\n",
    "for key in enron_data:\n",
    "    if enron_data[key][\"email_address\"] != 'NaN':\n",
    "        folks_email += 1\n",
    "    if enron_data[key][\"salary\"] != 'NaN':\n",
    "        folks_salary += 1\n",
    "print folks_salary\n",
    "print folks_email"
   ]
  },
  {
   "cell_type": "markdown",
   "metadata": {},
   "source": [
    "##### 28 Dict-to-array conversion\n",
    "A python dictionary can’t be read directly into an sklearn classification or regression algorithm; instead, it needs a numpy array or a list of lists (each element of the list (itself a list) is a data point, and the elements of the smaller list are the features of that point).\n",
    "\n",
    "We’ve written some helper functions (featureFormat() and targetFeatureSplit() in tools/feature_format.py) that can take a list of feature names and the data dictionary, and return a numpy array.\n",
    "\n",
    "In the case when a feature does not have a value for a particular person, this function will also replace the feature value with 0 (zero)."
   ]
  },
  {
   "cell_type": "code",
   "execution_count": null,
   "metadata": {
    "collapsed": true
   },
   "outputs": [],
   "source": []
  }
 ],
 "metadata": {
  "kernelspec": {
   "display_name": "Python 2",
   "language": "python",
   "name": "python2"
  },
  "language_info": {
   "codemirror_mode": {
    "name": "ipython",
    "version": 2
   },
   "file_extension": ".py",
   "mimetype": "text/x-python",
   "name": "python",
   "nbconvert_exporter": "python",
   "pygments_lexer": "ipython2",
   "version": "2.7.13"
  }
 },
 "nbformat": 4,
 "nbformat_minor": 2
}
