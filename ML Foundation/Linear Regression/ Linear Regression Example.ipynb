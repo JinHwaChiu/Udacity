{
 "cells": [
  {
   "cell_type": "markdown",
   "metadata": {},
   "source": [
    "#### Linear Regression Example\n",
    "(http://scikit-learn.org/stable/auto_examples/linear_model/plot_ols.html)\n",
    "\n",
    "This example uses the only the first feature of the diabetes dataset, in order to illustrate a two-dimensional plot of this regression technique. The straight line can be seen in the plot, showing how linear regression attempts to draw a straight line that will best minimize the residual sum of squares between the observed responses in the dataset, and the responses predicted by the linear approximation.\n",
    "The coefficients, the residual sum of squares and the variance score are also calculated."
   ]
  },
  {
   "cell_type": "code",
   "execution_count": 75,
   "metadata": {},
   "outputs": [
    {
     "name": "stdout",
     "output_type": "stream",
     "text": [
      "coef [ 938.23786125]\n",
      "mean square error:  2548.07\n",
      "variance score:  0.47\n"
     ]
    },
    {
     "data": {
      "image/png": "[encoded data removed]",
      "text/plain": [
       "<matplotlib.figure.Figure at 0xb03a080>"
      ]
     },
     "metadata": {},
     "output_type": "display_data"
    }
   ],
   "source": [
    "import numpy as np\n",
    "import matplotlib.pyplot as plt\n",
    "from sklearn.linear_model import LinearRegression\n",
    "from sklearn import datasets\n",
    "\n",
    "from sklearn.metrics import mean_squared_error, r2_score\n",
    "\n",
    "#Load the diabetes dataset\n",
    "diabetes = datasets.load_diabetes()\n",
    "#print diabetes\n",
    "\n",
    "#Use only one feature\n",
    "#https://docs.scipy.org/doc/\n",
    "#numpy-1.8.1/reference/arrays.indexing.html#numpy.newaxis\n",
    "diabetes_x = diabetes.data[:,2,np.newaxis]\n",
    "#diabetes_x\n",
    "#type(diabetes_x)\n",
    "#print diabetes.data\n",
    "\n",
    "#split the data/target into train_test\n",
    "diabetes_x_train = diabetes_x[:-20]\n",
    "diabetes_x_test = diabetes_x[-20:]\n",
    "diabetes_y_train = diabetes.target[:-20]\n",
    "diabetes_y_test = diabetes.target[-20:]\n",
    "\n",
    "#create lineat Regerssion object\n",
    "reg = LinearRegression()\n",
    "reg.fit(diabetes_x_train,diabetes_y_train)\n",
    "\n",
    "#prediction on test set\n",
    "diabetes_y_pred = reg.predict(diabetes_x_test)\n",
    "\n",
    "#The coef_ -> slope\n",
    "print \"coef\" ,reg.coef_\n",
    "print \"mean square error: % .2f\" %mean_squared_error(diabetes_y_test,diabetes_y_pred)\n",
    "print \"variance score: % .2f\" %r2_score(diabetes_y_test,diabetes_y_pred)\n",
    "\n",
    "#plot\n",
    "plt.scatter(diabetes_x_test,daibetes_y_test,color=\"blue\")\n",
    "plt.plot(diabetes_X_test, diabetes_y_pred, color='red', linewidth=3)\n",
    "plt.xticks(())\n",
    "plt.yticks(())\n",
    "plt.show()\n"
   ]
  },
  {
   "cell_type": "code",
   "execution_count": null,
   "metadata": {},
   "outputs": [],
   "source": []
  },
  {
   "cell_type": "code",
   "execution_count": null,
   "metadata": {
    "collapsed": true
   },
   "outputs": [],
   "source": []
  }
 ],
 "metadata": {
  "kernelspec": {
   "display_name": "Python 2",
   "language": "python",
   "name": "python2"
  },
  "language_info": {
   "codemirror_mode": {
    "name": "ipython",
    "version": 2
   },
   "file_extension": ".py",
   "mimetype": "text/x-python",
   "name": "python",
   "nbconvert_exporter": "python",
   "pygments_lexer": "ipython2",
   "version": "2.7.13"
  }
 },
 "nbformat": 4,
 "nbformat_minor": 2
}
